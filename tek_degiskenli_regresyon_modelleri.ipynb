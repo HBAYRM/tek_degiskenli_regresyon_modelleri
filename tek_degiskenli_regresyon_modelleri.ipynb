{
  "nbformat": 4,
  "nbformat_minor": 0,
  "metadata": {
    "colab": {
      "provenance": [],
      "gpuType": "T4"
    },
    "kernelspec": {
      "name": "python3",
      "display_name": "Python 3"
    },
    "language_info": {
      "name": "python"
    },
    "accelerator": "GPU"
  },
  "cells": [
    {
      "cell_type": "code",
      "source": [
        "#verilerin yüklenmesi\n",
        "veriler=pd.read_csv(\"/content/maaslar.csv\")\n",
        "veriler"
      ],
      "metadata": {
        "colab": {
          "base_uri": "https://localhost:8080/",
          "height": 363
        },
        "id": "sHlanq7XIkI1",
        "outputId": "a9e2860d-0bda-4f30-a260-7ce14fe0b8ac"
      },
      "execution_count": 114,
      "outputs": [
        {
          "output_type": "execute_result",
          "data": {
            "text/plain": [
              "              unvan  Egitim Seviyesi   maas\n",
              "0             Cayci                1   2250\n",
              "1          Sekreter                2   2500\n",
              "2  Uzman Yardimcisi                3   3000\n",
              "3             Uzman                4   4000\n",
              "4  Proje Yoneticisi                5   5500\n",
              "5               Sef                6   7500\n",
              "6             Mudur                7  10000\n",
              "7          Direktor                8  15000\n",
              "8           C-level                9  25000\n",
              "9               CEO               10  50000"
            ],
            "text/html": [
              "\n",
              "  <div id=\"df-3c398b31-51f4-46d5-a729-97fec8d7da61\">\n",
              "    <div class=\"colab-df-container\">\n",
              "      <div>\n",
              "<style scoped>\n",
              "    .dataframe tbody tr th:only-of-type {\n",
              "        vertical-align: middle;\n",
              "    }\n",
              "\n",
              "    .dataframe tbody tr th {\n",
              "        vertical-align: top;\n",
              "    }\n",
              "\n",
              "    .dataframe thead th {\n",
              "        text-align: right;\n",
              "    }\n",
              "</style>\n",
              "<table border=\"1\" class=\"dataframe\">\n",
              "  <thead>\n",
              "    <tr style=\"text-align: right;\">\n",
              "      <th></th>\n",
              "      <th>unvan</th>\n",
              "      <th>Egitim Seviyesi</th>\n",
              "      <th>maas</th>\n",
              "    </tr>\n",
              "  </thead>\n",
              "  <tbody>\n",
              "    <tr>\n",
              "      <th>0</th>\n",
              "      <td>Cayci</td>\n",
              "      <td>1</td>\n",
              "      <td>2250</td>\n",
              "    </tr>\n",
              "    <tr>\n",
              "      <th>1</th>\n",
              "      <td>Sekreter</td>\n",
              "      <td>2</td>\n",
              "      <td>2500</td>\n",
              "    </tr>\n",
              "    <tr>\n",
              "      <th>2</th>\n",
              "      <td>Uzman Yardimcisi</td>\n",
              "      <td>3</td>\n",
              "      <td>3000</td>\n",
              "    </tr>\n",
              "    <tr>\n",
              "      <th>3</th>\n",
              "      <td>Uzman</td>\n",
              "      <td>4</td>\n",
              "      <td>4000</td>\n",
              "    </tr>\n",
              "    <tr>\n",
              "      <th>4</th>\n",
              "      <td>Proje Yoneticisi</td>\n",
              "      <td>5</td>\n",
              "      <td>5500</td>\n",
              "    </tr>\n",
              "    <tr>\n",
              "      <th>5</th>\n",
              "      <td>Sef</td>\n",
              "      <td>6</td>\n",
              "      <td>7500</td>\n",
              "    </tr>\n",
              "    <tr>\n",
              "      <th>6</th>\n",
              "      <td>Mudur</td>\n",
              "      <td>7</td>\n",
              "      <td>10000</td>\n",
              "    </tr>\n",
              "    <tr>\n",
              "      <th>7</th>\n",
              "      <td>Direktor</td>\n",
              "      <td>8</td>\n",
              "      <td>15000</td>\n",
              "    </tr>\n",
              "    <tr>\n",
              "      <th>8</th>\n",
              "      <td>C-level</td>\n",
              "      <td>9</td>\n",
              "      <td>25000</td>\n",
              "    </tr>\n",
              "    <tr>\n",
              "      <th>9</th>\n",
              "      <td>CEO</td>\n",
              "      <td>10</td>\n",
              "      <td>50000</td>\n",
              "    </tr>\n",
              "  </tbody>\n",
              "</table>\n",
              "</div>\n",
              "      <button class=\"colab-df-convert\" onclick=\"convertToInteractive('df-3c398b31-51f4-46d5-a729-97fec8d7da61')\"\n",
              "              title=\"Convert this dataframe to an interactive table.\"\n",
              "              style=\"display:none;\">\n",
              "        \n",
              "  <svg xmlns=\"http://www.w3.org/2000/svg\" height=\"24px\"viewBox=\"0 0 24 24\"\n",
              "       width=\"24px\">\n",
              "    <path d=\"M0 0h24v24H0V0z\" fill=\"none\"/>\n",
              "    <path d=\"M18.56 5.44l.94 2.06.94-2.06 2.06-.94-2.06-.94-.94-2.06-.94 2.06-2.06.94zm-11 1L8.5 8.5l.94-2.06 2.06-.94-2.06-.94L8.5 2.5l-.94 2.06-2.06.94zm10 10l.94 2.06.94-2.06 2.06-.94-2.06-.94-.94-2.06-.94 2.06-2.06.94z\"/><path d=\"M17.41 7.96l-1.37-1.37c-.4-.4-.92-.59-1.43-.59-.52 0-1.04.2-1.43.59L10.3 9.45l-7.72 7.72c-.78.78-.78 2.05 0 2.83L4 21.41c.39.39.9.59 1.41.59.51 0 1.02-.2 1.41-.59l7.78-7.78 2.81-2.81c.8-.78.8-2.07 0-2.86zM5.41 20L4 18.59l7.72-7.72 1.47 1.35L5.41 20z\"/>\n",
              "  </svg>\n",
              "      </button>\n",
              "      \n",
              "  <style>\n",
              "    .colab-df-container {\n",
              "      display:flex;\n",
              "      flex-wrap:wrap;\n",
              "      gap: 12px;\n",
              "    }\n",
              "\n",
              "    .colab-df-convert {\n",
              "      background-color: #E8F0FE;\n",
              "      border: none;\n",
              "      border-radius: 50%;\n",
              "      cursor: pointer;\n",
              "      display: none;\n",
              "      fill: #1967D2;\n",
              "      height: 32px;\n",
              "      padding: 0 0 0 0;\n",
              "      width: 32px;\n",
              "    }\n",
              "\n",
              "    .colab-df-convert:hover {\n",
              "      background-color: #E2EBFA;\n",
              "      box-shadow: 0px 1px 2px rgba(60, 64, 67, 0.3), 0px 1px 3px 1px rgba(60, 64, 67, 0.15);\n",
              "      fill: #174EA6;\n",
              "    }\n",
              "\n",
              "    [theme=dark] .colab-df-convert {\n",
              "      background-color: #3B4455;\n",
              "      fill: #D2E3FC;\n",
              "    }\n",
              "\n",
              "    [theme=dark] .colab-df-convert:hover {\n",
              "      background-color: #434B5C;\n",
              "      box-shadow: 0px 1px 3px 1px rgba(0, 0, 0, 0.15);\n",
              "      filter: drop-shadow(0px 1px 2px rgba(0, 0, 0, 0.3));\n",
              "      fill: #FFFFFF;\n",
              "    }\n",
              "  </style>\n",
              "\n",
              "      <script>\n",
              "        const buttonEl =\n",
              "          document.querySelector('#df-3c398b31-51f4-46d5-a729-97fec8d7da61 button.colab-df-convert');\n",
              "        buttonEl.style.display =\n",
              "          google.colab.kernel.accessAllowed ? 'block' : 'none';\n",
              "\n",
              "        async function convertToInteractive(key) {\n",
              "          const element = document.querySelector('#df-3c398b31-51f4-46d5-a729-97fec8d7da61');\n",
              "          const dataTable =\n",
              "            await google.colab.kernel.invokeFunction('convertToInteractive',\n",
              "                                                     [key], {});\n",
              "          if (!dataTable) return;\n",
              "\n",
              "          const docLinkHtml = 'Like what you see? Visit the ' +\n",
              "            '<a target=\"_blank\" href=https://colab.research.google.com/notebooks/data_table.ipynb>data table notebook</a>'\n",
              "            + ' to learn more about interactive tables.';\n",
              "          element.innerHTML = '';\n",
              "          dataTable['output_type'] = 'display_data';\n",
              "          await google.colab.output.renderOutput(dataTable, element);\n",
              "          const docLink = document.createElement('div');\n",
              "          docLink.innerHTML = docLinkHtml;\n",
              "          element.appendChild(docLink);\n",
              "        }\n",
              "      </script>\n",
              "    </div>\n",
              "  </div>\n",
              "  "
            ]
          },
          "metadata": {},
          "execution_count": 114
        }
      ]
    },
    {
      "cell_type": "code",
      "source": [
        "#KORELASYON İLİŞKİLERİ\n",
        "corr_matrix = veriler.corr()\n",
        "print(corr_matrix)\n",
        "def en_yuksek_iliskiler(corr_matrix):\n",
        "    # Korelasyon matrisini sütunlara göre sıralama\n",
        "    sorted_corr = corr_matrix.unstack().sort_values(ascending=False)\n",
        "\n",
        "    # Sıralanmış korelasyon değerlerinin en yüksek olduğu sütun ikililerini yazdırma\n",
        "    for i, (s1, s2) in enumerate(sorted_corr.index):\n",
        "        if s1 != s2:  # Aynı sütun ikilisini tekrarlamamak için\n",
        "            print(f\"{s1}-{s2}: {sorted_corr[i]}\")\n",
        "\n",
        "# Örnek kullanım\n",
        "en_yuksek_iliskiler(corr_matrix)\n"
      ],
      "metadata": {
        "colab": {
          "base_uri": "https://localhost:8080/"
        },
        "id": "_N_Yt3d0Y4tF",
        "outputId": "1208efbf-bc50-494f-9892-89fe157d8926"
      },
      "execution_count": 116,
      "outputs": [
        {
          "output_type": "stream",
          "name": "stdout",
          "text": [
            "Egitim Seviyesi-maas: 0.8179494074776198\n",
            "maas-Egitim Seviyesi: 0.8179494074776198\n"
          ]
        }
      ]
    },
    {
      "cell_type": "code",
      "source": [
        "import pandas as pd\n",
        "from sklearn.preprocessing import OneHotEncoder\n",
        "from sklearn.preprocessing import MinMaxScaler\n",
        "\n",
        "def one_hot_encode(data, columns):\n",
        "    # Kategorik sütunları seçme\n",
        "    categorical_data = data[columns]\n",
        "\n",
        "    # One-Hot Encoder oluşturma\n",
        "    encoder = OneHotEncoder(sparse=False, drop='first')\n",
        "\n",
        "    # Kategorik veriyi dönüştürme\n",
        "    encoded_data = encoder.fit_transform(categorical_data)\n",
        "\n",
        "    # One-Hot Encoding sonucunu DataFrame'e dönüştürme\n",
        "    encoded_df = pd.DataFrame(encoded_data, columns=encoder.get_feature_names_out(columns))\n",
        "\n",
        "    # Dönüştürülmüş veriyi orijinal veriyle birleştirme\n",
        "    preprocessed_data = pd.concat([data.drop(columns, axis=1), encoded_df], axis=1)\n",
        "\n",
        "    return preprocessed_data\n",
        "\n",
        "\n",
        "\n",
        "\n",
        "def min_max_scale(data, column):\n",
        "    # Min-Max Scaler oluşturma\n",
        "    scaler = MinMaxScaler()\n",
        "\n",
        "    # Sütunu seçme ve ölçeklendirme\n",
        "    scaled_column = scaler.fit_transform(data[[column]])\n",
        "\n",
        "    # Ölçeklendirilmiş sütunu yeni bir DataFrame'e dönüştürme\n",
        "    scaled_data = pd.DataFrame(scaled_column, columns=[column])\n",
        "\n",
        "    # Ölçeklendirilmiş sütunu orijinal veri setine ekleme\n",
        "    data[column] = scaled_data[column]\n",
        "\n",
        "    return data\n",
        "\n",
        "\n",
        "def fill_nan_with_mean(data):\n",
        "    for column in data.columns:\n",
        "        if data[column].isnull().any():\n",
        "            mean = data[column].mean()\n",
        "            data[column].fillna(mean, inplace=True)\n",
        "    return data\n",
        "\n",
        "\n",
        "def veriOnIsleme(data, columnsForOneHotEncoder, columnsForMinMaxScaler):\n",
        "    dataForOneHot = one_hot_encode(data, columnsForOneHotEncoder)\n",
        "    for column in columnsForMinMaxScaler:\n",
        "        dataForOneHot = min_max_scale(dataForOneHot, column)  # Düzeltme: dataForOneHot kullanılmalı\n",
        "    result = fill_nan_with_mean(dataForOneHot)\n",
        "    return result"
      ],
      "metadata": {
        "id": "QTCxq5oPIkLl"
      },
      "execution_count": 117,
      "outputs": []
    },
    {
      "cell_type": "code",
      "source": [
        "veriSetim=pd.read_csv(\"/content/maaslar.csv\")\n",
        "#veriOnİslemeliSetDuzelt=veriOnIsleme(veriSetim, [\"Surname\", \"Geography\", \"Gender\"], [\"CreditScore\", \"Tenure\", \"Balance\", \"NumOfProducts\", \"EstimatedSalary\"])\n",
        "#veriOnİslemeliSetDuzelt=veriOnİslemeliSetDuzelt.drop([\"RowNumber\",\"CustomerId\"], axis=1)\n",
        "\n",
        "veriOnİslemeliSetDuzelt=veriOnIsleme(veriSetim,[], [\"Egitim Seviyesi\",\"maas\"])\n",
        "\n",
        "MyX = veriOnİslemeliSetDuzelt[\"Egitim Seviyesi\"]\n",
        "MyY = veriOnİslemeliSetDuzelt[\"maas\"]\n"
      ],
      "metadata": {
        "colab": {
          "base_uri": "https://localhost:8080/"
        },
        "id": "X3U-tOQyIkNT",
        "outputId": "2821baa4-1908-4a3c-a1f2-9831f25bff51"
      },
      "execution_count": 124,
      "outputs": [
        {
          "output_type": "stream",
          "name": "stderr",
          "text": [
            "/usr/local/lib/python3.10/dist-packages/sklearn/preprocessing/_encoders.py:868: FutureWarning: `sparse` was renamed to `sparse_output` in version 1.2 and will be removed in 1.4. `sparse_output` is ignored unless you leave `sparse` to its default value.\n",
            "  warnings.warn(\n"
          ]
        }
      ]
    },
    {
      "cell_type": "code",
      "source": [
        "MyX"
      ],
      "metadata": {
        "colab": {
          "base_uri": "https://localhost:8080/"
        },
        "id": "pwWIwtauOtxm",
        "outputId": "bdc8b1e7-26d7-466e-bd62-2a031b9b5b46"
      },
      "execution_count": 125,
      "outputs": [
        {
          "output_type": "execute_result",
          "data": {
            "text/plain": [
              "0    0.000000\n",
              "1    0.111111\n",
              "2    0.222222\n",
              "3    0.333333\n",
              "4    0.444444\n",
              "5    0.555556\n",
              "6    0.666667\n",
              "7    0.777778\n",
              "8    0.888889\n",
              "9    1.000000\n",
              "Name: Egitim Seviyesi, dtype: float64"
            ]
          },
          "metadata": {},
          "execution_count": 125
        }
      ]
    },
    {
      "cell_type": "code",
      "source": [
        "MyY"
      ],
      "metadata": {
        "colab": {
          "base_uri": "https://localhost:8080/"
        },
        "id": "Myi1lEPchmA_",
        "outputId": "4e58d37f-4e4b-442d-ce08-62bc926dde35"
      },
      "execution_count": 126,
      "outputs": [
        {
          "output_type": "execute_result",
          "data": {
            "text/plain": [
              "0    0.000000\n",
              "1    0.005236\n",
              "2    0.015707\n",
              "3    0.036649\n",
              "4    0.068063\n",
              "5    0.109948\n",
              "6    0.162304\n",
              "7    0.267016\n",
              "8    0.476440\n",
              "9    1.000000\n",
              "Name: maas, dtype: float64"
            ]
          },
          "metadata": {},
          "execution_count": 126
        }
      ]
    },
    {
      "cell_type": "code",
      "source": [
        "def parcalamaIslemi(A,B):\n",
        "  from sklearn.model_selection import train_test_split\n",
        "  X_train, X_test, Y_train, Y_test = train_test_split(A, B,test_size=0.2,random_state=42)\n",
        "  return X_train, X_test, Y_train, Y_test"
      ],
      "metadata": {
        "id": "wpfeS2bkPhO9"
      },
      "execution_count": 127,
      "outputs": []
    },
    {
      "cell_type": "code",
      "source": [
        "MyX_train, MyX_test, MyY_train, MyY_test=parcalamaIslemi(MyX.values, MyY.values.reshape(-1, 1))"
      ],
      "metadata": {
        "id": "onkYp3CePh74"
      },
      "execution_count": 128,
      "outputs": []
    },
    {
      "cell_type": "markdown",
      "source": [
        "Linear **Regression**"
      ],
      "metadata": {
        "id": "9nIayu-wthes"
      }
    },
    {
      "cell_type": "code",
      "source": [
        "#Linear Regression+\n",
        "from sklearn.linear_model import LinearRegression\n",
        "lin_reg = LinearRegression()\n",
        "lin_reg.fit(MyX_train.reshape(-1, 1), MyY_train)\n",
        "tahminCoklu = lin_reg.predict(MyX_test.reshape(-1, 1))"
      ],
      "metadata": {
        "id": "gLft9VZyRXBH"
      },
      "execution_count": 177,
      "outputs": []
    },
    {
      "cell_type": "code",
      "source": [
        "#LINEAR REGRESSION METRİCS\n",
        "from sklearn.metrics import mean_squared_error, r2_score\n",
        "import matplotlib.pyplot as plt\n",
        "\n",
        "# Calculate metrics\n",
        "mse = mean_squared_error(MyY_test, tahminCoklu)\n",
        "r2 = r2_score(MyY_test, tahminCoklu)\n",
        "\n",
        "# Plot the predicted values against the actual values\n",
        "plt.scatter(MyY_test, tahminCoklu)\n",
        "plt.plot([MyY_test.min(), MyY_test.max()], [MyY_test.min(), MyY_test.max()], 'k--', lw=2)\n",
        "plt.xlabel('Actual')\n",
        "plt.ylabel('Predicted')\n",
        "plt.title('Actual vs. Predicted')\n",
        "plt.show()\n",
        "\n",
        "# Plot the residuals\n",
        "residuals = MyY_test - tahminCoklu\n",
        "plt.scatter(tahminCoklu, residuals)\n",
        "plt.axhline(y=0, color='r', linestyle='--')\n",
        "plt.xlabel('Predicted')\n",
        "plt.ylabel('Residuals')\n",
        "plt.title('Residuals Plot')\n",
        "plt.show()\n",
        "\n",
        "# Print the metrics\n",
        "print(\"Mean Squared Error (MSE):\", mse)\n",
        "print(\"Coefficient of Determination (R^2):\", r2)\n",
        "\n",
        "#   MAE\n",
        "from sklearn.metrics import mean_absolute_error\n",
        "mae = mean_absolute_error(MyY_test, tahminCoklu)\n",
        "print(\"Ortalama Mutlak Hata (MAE):\", mae)\n",
        "\n",
        "# RMSE\n",
        "rmse = np.sqrt(mse)\n",
        "print(\"Kök Ortalama Kare Hata (RMSE):\", rmse)\n",
        "\n",
        "\n",
        "\n",
        "#plt.scatter(MyX_train.reshape(-1, 1), MyY_train)\n",
        "#plt.plot(MyX_test.reshape(-1, 1),lin_reg.predict(MyX_test.reshape(-1, 1)))\n",
        "#plt.show()\n"
      ],
      "metadata": {
        "id": "_04R4v14tpPR"
      },
      "execution_count": null,
      "outputs": []
    },
    {
      "cell_type": "markdown",
      "source": [
        "POlİNOMAL **REGRESSİON**"
      ],
      "metadata": {
        "id": "WsfqhR84tqSw"
      }
    },
    {
      "cell_type": "code",
      "source": [
        "#POlİNOMAL REGRESSİON+\n",
        "from sklearn.preprocessing import PolynomialFeatures\n",
        "poly_reg=PolynomialFeatures(degree=4)\n",
        "x_poly=poly_reg.fit_transform(MyX_train.reshape(-1, 1))\n",
        "lin2_reg=LinearRegression()\n",
        "lin2_reg.fit(x_poly,MyY_train)\n",
        "tahminPolynomial=lin2_reg.predict(x_poly)"
      ],
      "metadata": {
        "id": "Wy_gelQgj4BJ"
      },
      "execution_count": 179,
      "outputs": []
    },
    {
      "cell_type": "code",
      "source": [
        "#POLIYNOMAİL REGRESSION METRİCS\n",
        "from sklearn.metrics import mean_squared_error, r2_score\n",
        "import matplotlib.pyplot as plt\n",
        "\n",
        "# Veri setini train ve test kümelerine ayırma\n",
        "MyX_train, MyX_test, MyY_train, MyY_test = parcalamaIslemi(MyX.values, MyY.values.reshape(-1, 1))\n",
        "\n",
        "# Polinom özelliklerini oluşturma\n",
        "poly_reg = PolynomialFeatures(degree=2)\n",
        "x_poly_train = poly_reg.fit_transform(MyX_train.reshape(-1, 1))\n",
        "\n",
        "# Polinom regresyon modelini oluşturma ve eğitme\n",
        "lin2_reg = LinearRegression()\n",
        "lin2_reg.fit(x_poly_train, MyY_train)\n",
        "\n",
        "# Test veri kümesi üzerinde tahmin yapma\n",
        "x_poly_test = poly_reg.transform(MyX_test.reshape(-1, 1))\n",
        "tahminPolynomial = lin2_reg.predict(x_poly_test)\n",
        "\n",
        "# Hata metriklerini hesaplama\n",
        "mse = mean_squared_error(MyY_test, tahminPolynomial)\n",
        "r2 = r2_score(MyY_test, tahminPolynomial)\n",
        "\n",
        "# Tahminleri görselleştirme\n",
        "plt.scatter(MyX_test, MyY_test, color='red')\n",
        "plt.plot(MyX_test, tahminPolynomial, color='blue')\n",
        "plt.title('Maaş Tahminleri')\n",
        "plt.xlabel('Yıl Deneyimi')\n",
        "plt.ylabel('Maaş')\n",
        "plt.show()\n",
        "\n",
        "# Gerçek ve tahmin edilen değerler arasındaki farkı görselleştirme\n",
        "residuals = MyY_test - tahminPolynomial\n",
        "plt.scatter(tahminPolynomial, residuals)\n",
        "plt.axhline(y=0, color='r', linestyle='--')\n",
        "plt.xlabel('Tahmin Edilen')\n",
        "plt.ylabel('Artık (Residuals)')\n",
        "plt.title('Artık Dağılımı')\n",
        "plt.show()\n",
        "\n",
        "# Hata metriklerini yazdırma\n",
        "print(\"Ortalama Kare Hatası (MSE):\", mse)\n",
        "print(\"Determinasyon Katsayısı (R^2):\", r2)\n",
        "\n",
        "#   MAE\n",
        "from sklearn.metrics import mean_absolute_error\n",
        "mae = mean_absolute_error(MyY_test, tahminPolynomial)\n",
        "print(\"Ortalama Mutlak Hata (MAE):\", mae)\n",
        "\n",
        "# RMSE\n",
        "rmse = np.sqrt(mse)\n",
        "print(\"Kök Ortalama Kare Hata (RMSE):\", rmse)"
      ],
      "metadata": {
        "id": "BndQQxc9tvrP"
      },
      "execution_count": null,
      "outputs": []
    },
    {
      "cell_type": "markdown",
      "source": [
        "Support Vektor **Regression**"
      ],
      "metadata": {
        "id": "2rIlDlkrtyxx"
      }
    },
    {
      "cell_type": "code",
      "source": [
        "#Support Vektor Regression+\n",
        "from sklearn.svm import SVR\n",
        "svr_reg = SVR(kernel='sigmoid')\n",
        "svr_reg.fit(MyX_train.reshape(-1, 1), MyY_train)\n",
        "tahminSVR=svr_reg.predict(MyX_test.reshape(-1, 1))"
      ],
      "metadata": {
        "colab": {
          "base_uri": "https://localhost:8080/"
        },
        "id": "2jeW_NwyoEIE",
        "outputId": "1e6753dc-0dc9-4344-b4a6-a580289dbf72"
      },
      "execution_count": 183,
      "outputs": [
        {
          "output_type": "stream",
          "name": "stderr",
          "text": [
            "/usr/local/lib/python3.10/dist-packages/sklearn/utils/validation.py:1143: DataConversionWarning: A column-vector y was passed when a 1d array was expected. Please change the shape of y to (n_samples, ), for example using ravel().\n",
            "  y = column_or_1d(y, warn=True)\n"
          ]
        }
      ]
    },
    {
      "cell_type": "code",
      "source": [
        "#SUPPORT VECTOR REGRESSION METRİCS\n",
        "mse_svr = mean_squared_error(MyY_test, tahminSVR)\n",
        "r2_svr = r2_score(MyY_test, tahminSVR)\n",
        "\n",
        "# Tahminleri görselleştirme (SVR)\n",
        "plt.scatter(MyX_test, MyY_test, color='red')\n",
        "plt.plot(MyX_test, tahminSVR, color='blue')\n",
        "plt.title('Maaş Tahminleri (SVR)')\n",
        "plt.xlabel('Yıl Deneyimi')\n",
        "plt.ylabel('Maaş')\n",
        "plt.show()\n",
        "\n",
        "# Gerçek ve tahmin edilen değerler arasındaki farkı görselleştirme (SVR)\n",
        "residuals_svr = MyY_test.reshape(-1) - tahminSVR\n",
        "plt.scatter(tahminSVR, residuals_svr)\n",
        "plt.axhline(y=0, color='r', linestyle='--')\n",
        "plt.xlabel('Tahmin Edilen (SVR)')\n",
        "plt.ylabel('Artık (Residuals)')\n",
        "plt.title('Artık Dağılımı (SVR)')\n",
        "plt.show()\n",
        "\n",
        "\n",
        "# Linear Regression metriklerini yazdırma\n",
        "print(\"Linear Regression Metrics:\")\n",
        "print(\"Mean Squared Error (MSE):\", mse)\n",
        "print(\"Coefficient of Determination (R^2):\", r2)\n",
        "print(\"Mean Absolute Error (MAE):\", mae)\n",
        "print(\"Root Mean Squared Error (RMSE):\", rmse)\n",
        "\n",
        "# Support Vector Regression metriklerini yazdırma\n",
        "print(\"Support Vector Regression Metrics:\")\n",
        "print(\"Mean Squared Error (MSE):\", mse_svr)\n",
        "print(\"Coefficient of Determination (R^2):\", r2_svr)"
      ],
      "metadata": {
        "id": "SQYe_RKFt22Z"
      },
      "execution_count": null,
      "outputs": []
    },
    {
      "cell_type": "markdown",
      "source": [
        "Decision **Tree**"
      ],
      "metadata": {
        "id": "KCfrNETkt4TT"
      }
    },
    {
      "cell_type": "code",
      "source": [
        "#Decision Tree+\n",
        "from sklearn.tree import DecisionTreeRegressor\n",
        "r_dt=DecisionTreeRegressor(random_state=(42))\n",
        "r_dt.fit(MyX_train.reshape(-1, 1), MyY_train)\n",
        "tahminDesicionTree=r_dt.predict(MyX_test.reshape(-1, 1))"
      ],
      "metadata": {
        "id": "_ugfv7ZtqAxH"
      },
      "execution_count": 159,
      "outputs": []
    },
    {
      "cell_type": "code",
      "source": [
        "# Decision Tree METRİCS\n",
        "\n",
        "\n",
        "# Calculate metrics\n",
        "mse_dt = mean_squared_error(MyY_test, tahminDesicionTree)\n",
        "r2_dt = r2_score(MyY_test, tahminDesicionTree)\n",
        "\n",
        "# Plot the predicted values against the actual values\n",
        "plt.scatter(MyY_test, tahminDesicionTree)\n",
        "plt.plot([MyY_test.min(), MyY_test.max()], [MyY_test.min(), MyY_test.max()], 'k--', lw=2)\n",
        "plt.xlabel('Actual')\n",
        "plt.ylabel('Predicted')\n",
        "plt.title('Actual vs. Predicted (Decision Tree)')\n",
        "plt.show()\n",
        "\n",
        "# Plot the residuals\n",
        "residuals_dt = MyY_test.reshape(-1) - tahminDesicionTree\n",
        "plt.scatter(tahminDesicionTree, residuals_dt)\n",
        "plt.axhline(y=0, color='r', linestyle='--')\n",
        "plt.xlabel('Predicted')\n",
        "plt.ylabel('Residuals')\n",
        "plt.title('Residuals Plot (Decision Tree)')\n",
        "plt.show()\n",
        "\n",
        "# Print the metrics\n",
        "print(\"Decision Tree Metrics:\")\n",
        "print(\"Mean Squared Error (MSE):\", mse_dt)\n",
        "print(\"Coefficient of Determination (R^2):\", r2_dt)\n",
        "print(\"Ortalama Mutlak Hata (MAE):\", mean_absolute_error(MyY_test, tahminDesicionTree))\n",
        "print(\"Kök Ortalama Kare Hata (RMSE):\", np.sqrt(mse_dt))"
      ],
      "metadata": {
        "id": "hrZ4Wrevt8dK"
      },
      "execution_count": null,
      "outputs": []
    },
    {
      "cell_type": "markdown",
      "source": [
        "Random **Forest**"
      ],
      "metadata": {
        "id": "7qPMLP4Ft95b"
      }
    },
    {
      "cell_type": "code",
      "source": [
        "#Random Forest+\n",
        "from sklearn.ensemble import RandomForestRegressor\n",
        "rf_reg=RandomForestRegressor(n_estimators=20,random_state=(42))\n",
        "rf_reg.fit(MyX_train.reshape(-1, 1), MyY_train)\n",
        "tahminRandomForest=rf_reg.predict(MyX_test.reshape(-1, 1))"
      ],
      "metadata": {
        "colab": {
          "base_uri": "https://localhost:8080/"
        },
        "id": "gLGrRpWJsUuM",
        "outputId": "a6600aea-6fe5-4ea6-c1f4-984efa719fc4"
      },
      "execution_count": 185,
      "outputs": [
        {
          "output_type": "stream",
          "name": "stderr",
          "text": [
            "<ipython-input-185-0ff78582da95>:4: DataConversionWarning: A column-vector y was passed when a 1d array was expected. Please change the shape of y to (n_samples,), for example using ravel().\n",
            "  rf_reg.fit(MyX_train.reshape(-1, 1), MyY_train)\n"
          ]
        }
      ]
    },
    {
      "cell_type": "code",
      "source": [
        "#RANDOM FOREST METRİCS\n",
        "\n",
        "# Calculate metrics\n",
        "mse_rf = mean_squared_error(MyY_test, tahminRandomForest)\n",
        "r2_rf = r2_score(MyY_test, tahminRandomForest)\n",
        "\n",
        "# Plot the predicted values against the actual values\n",
        "plt.scatter(MyY_test, tahminRandomForest)\n",
        "plt.plot([MyY_test.min(), MyY_test.max()], [MyY_test.min(), MyY_test.max()], 'k--', lw=2)\n",
        "plt.xlabel('Actual')\n",
        "plt.ylabel('Predicted')\n",
        "plt.title('Actual vs. Predicted (Random Forest)')\n",
        "plt.show()\n",
        "\n",
        "# Plot the residuals\n",
        "residuals_rf = MyY_test.reshape(-1) - tahminRandomForest\n",
        "plt.scatter(tahminRandomForest, residuals_rf)\n",
        "plt.axhline(y=0, color='r', linestyle='--')\n",
        "plt.xlabel('Predicted')\n",
        "plt.ylabel('Residuals')\n",
        "plt.title('Residuals Plot (Random Forest)')\n",
        "plt.show()\n",
        "\n",
        "# Print the metrics\n",
        "print(\"Mean Squared Error (MSE):\", mse_rf)\n",
        "print(\"Coefficient of Determination (R^2):\", r2_rf)\n",
        "\n",
        "# MAE\n",
        "mae_rf = mean_absolute_error(MyY_test, tahminRandomForest)\n",
        "print(\"Mean Absolute Error (MAE):\", mae_rf)\n",
        "\n",
        "# RMSE\n",
        "rmse_rf = np.sqrt(mse_rf)\n",
        "print(\"Root Mean Squared Error (RMSE):\", rmse_rf)\n"
      ],
      "metadata": {
        "id": "22DWbgFvs2yw"
      },
      "execution_count": null,
      "outputs": []
    }
  ]
}